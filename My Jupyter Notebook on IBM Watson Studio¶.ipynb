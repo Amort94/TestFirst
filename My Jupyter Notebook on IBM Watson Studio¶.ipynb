{
  "metadata": {
    "language_info": {
      "codemirror_mode": {
        "name": "python",
        "version": 3
      },
      "file_extension": ".py",
      "mimetype": "text/x-python",
      "name": "python",
      "nbconvert_exporter": "python",
      "pygments_lexer": "ipython3",
      "version": "3.8"
    },
    "kernelspec": {
      "name": "python",
      "display_name": "Pyolite",
      "language": "python"
    }
  },
  "nbformat_minor": 4,
  "nbformat": 4,
  "cells": [
    {
      "cell_type": "markdown",
      "source": "# My Jupyter Notebook on IBM Watson Studio¶",
      "metadata": {}
    },
    {
      "cell_type": "markdown",
      "source": "__Abdolali Mortazavi__<br>\nMy desired occupation is to work as a data scientist in the marketing field:)",
      "metadata": {}
    },
    {
      "cell_type": "markdown",
      "source": "I am interested in data science since it could bring me a good opportunity in the competitive job market of the future.",
      "metadata": {}
    },
    {
      "cell_type": "markdown",
      "source": "### This simple line of could should print out \"Hello Data Science World...I am coming for you!\"",
      "metadata": {}
    },
    {
      "cell_type": "code",
      "source": "print(\"Hello Data Science World...I am coming for you!\")",
      "metadata": {
        "trusted": true
      },
      "execution_count": 4,
      "outputs": [
        {
          "name": "stdout",
          "text": "Hello Data Science World...I am coming for you!\n",
          "output_type": "stream"
        }
      ]
    },
    {
      "cell_type": "markdown",
      "source": "|Header 1|Header 2|Header 3|\n|---|---|---|\n|Cell 11|Cell 12|Cell 13|\n\nThis is a sample horizontal rule\n***\nwhich is ended here<br>\n\nThis a numbered list: <br>\n1. a\n2. b\n3. c\n    1. c1\n    2. c2\n\n<a href=\"https://www.google.com/webhp\"> A Sample Link to Google <a>",
      "metadata": {}
    },
    {
      "cell_type": "code",
      "source": "",
      "metadata": {},
      "execution_count": null,
      "outputs": []
    }
  ]
}